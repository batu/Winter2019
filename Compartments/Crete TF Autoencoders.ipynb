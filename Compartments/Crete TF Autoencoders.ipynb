{
 "cells": [
  {
   "cell_type": "code",
   "execution_count": 1,
   "metadata": {},
   "outputs": [
    {
     "name": "stderr",
     "output_type": "stream",
     "text": [
      "Using TensorFlow backend.\n"
     ]
    }
   ],
   "source": [
    "import random, glob, cv2, os\n",
    "from matplotlib import pyplot as plt\n",
    "\n",
    "import tensorflow as tf\n",
    "import numpy as np\n",
    "\n",
    "from keras.preprocessing.image import ImageDataGenerator, array_to_img, img_to_array, load_img\n",
    "from sklearn.model_selection import train_test_split\n",
    "\n",
    "from keras import layers\n",
    "from keras.models import Model\n",
    "\n",
    "\n",
    "from IPython.display import Image\n",
    "\n",
    "ran_once = False"
   ]
  },
  {
   "cell_type": "code",
   "execution_count": 2,
   "metadata": {},
   "outputs": [
    {
     "name": "stdout",
     "output_type": "stream",
     "text": [
      "The memory has shape: (1, 128)\n",
      "The data has been loaded, with the shape: (4000, 84, 84, 1)\n",
      "Loaded image has shape: (84, 84, 1)\n"
     ]
    },
    {
     "data": {
      "text/plain": [
       "<matplotlib.image.AxesImage at 0x7f7662e62ef0>"
      ]
     },
     "execution_count": 2,
     "metadata": {},
     "output_type": "execute_result"
    },
    {
     "data": {
      "image/png": "[encoded data removed]",
      "text/plain": [
       "<Figure size 432x288 with 1 Axes>"
      ]
     },
     "metadata": {},
     "output_type": "display_data"
    }
   ],
   "source": [
    "GAME_NAME = \"Breakout\"\n",
    "#Due to Keras structuring the data is layout as GameName/Screen/Pixels/All_Images.pngs\n",
    "IMAGE_LOAD_PATH = f\"GameplayData/{GAME_NAME}/Screen\"\n",
    "\n",
    "# Get the files sorted by the order they were modified (created.)\n",
    "\n",
    "x_mem_train = np.load(f\"GameplayData/{GAME_NAME}/Ram/{GAME_NAME}_RAMs.npy\")[0:1]\n",
    "print(\"The memory has shape:\", x_mem_train.shape)\n",
    "\n",
    "file_names = sorted(glob.glob(f\"{IMAGE_LOAD_PATH}/Pixels/*.png\"), key=os.path.getmtime)[0:4000]\n",
    "x_train = np.array([cv2.imread(file) for file in file_names])\n",
    "x_train = np.array([cv2.cvtColor(image, cv2.COLOR_BGR2RGB) for image in x_train])\n",
    "\n",
    "\n",
    "# Deepmind DownSampling\n",
    "x_train = np.array([cv2.cvtColor(image, cv2.COLOR_RGB2GRAY) for image in x_train])\n",
    "x_train = np.array([cv2.resize(image, (84, 84), interpolation=cv2.INTER_AREA) for image in x_train])\n",
    "x_train = x_train.reshape(len(x_train), 84, 84, 1)\n",
    "print(\"The data has been loaded, with the shape:\", x_train.shape)\n",
    "\n",
    "random.choice(x_train)\n",
    "random_image = x_train[0]\n",
    "IMAGE_SHAPE = np.array(random_image).shape\n",
    "print(\"Loaded image has shape:\",IMAGE_SHAPE )\n",
    "plt.imshow(random_image.squeeze())\n"
   ]
  },
  {
   "cell_type": "code",
   "execution_count": 3,
   "metadata": {},
   "outputs": [],
   "source": [
    "def conv(input_tensor, scope, *, n_filters, filter_size, stride,\n",
    "         pad='VALID', init_scale=1.0, data_format='NHWC', one_dim_bias=False):\n",
    "    \"\"\"\n",
    "    Creates a 2d convolutional layer for TensorFlow\n",
    "\n",
    "    :param input_tensor: (TensorFlow Tensor) The input tensor for the convolution\n",
    "    :param scope: (str) The TensorFlow variable scope\n",
    "    :param n_filters: (int) The number of filters\n",
    "    :param filter_size: (int) The filter size\n",
    "    :param stride: (int) The stride of the convolution\n",
    "    :param pad: (str) The padding type ('VALID' or 'SAME')\n",
    "    :param init_scale: (int) The initialization scale\n",
    "    :param data_format: (str) The data format for the convolution weights\n",
    "    :param one_dim_bias: (bool) If the bias should be one dimentional or not\n",
    "    :return: (TensorFlow Tensor) 2d convolutional layer\n",
    "    \"\"\"\n",
    "    if data_format == 'NHWC':\n",
    "        channel_ax = 3\n",
    "        strides = [1, stride, stride, 1]\n",
    "        bshape = [1, 1, 1, n_filters]\n",
    "    elif data_format == 'NCHW':\n",
    "        channel_ax = 1\n",
    "        strides = [1, 1, stride, stride]\n",
    "        bshape = [1, n_filters, 1, 1]\n",
    "    else:\n",
    "        raise NotImplementedError\n",
    "    bias_var_shape = [n_filters] if one_dim_bias else [1, n_filters, 1, 1]\n",
    "    n_input = input_tensor.get_shape()[channel_ax].value\n",
    "    wshape = [filter_size, filter_size, n_input, n_filters]\n",
    "    with tf.variable_scope(scope):\n",
    "        weight = tf.get_variable(\"w\", wshape, initializer=ortho_init(init_scale))\n",
    "        bias = tf.get_variable(\"b\", bias_var_shape, initializer=tf.constant_initializer(0.0))\n",
    "        if not one_dim_bias and data_format == 'NHWC':\n",
    "            bias = tf.reshape(bias, bshape)\n",
    "        return bias + tf.nn.conv2d(input_tensor, weight, strides=strides, padding=pad, data_format=data_format)\n",
    "\n",
    "\n",
    "def linear(input_tensor, scope, n_hidden, *, init_scale=1.0, init_bias=0.0):\n",
    "    \"\"\"\n",
    "    Creates a fully connected layer for TensorFlow\n",
    "\n",
    "    :param input_tensor: (TensorFlow Tensor) The input tensor for the fully connected layer\n",
    "    :param scope: (str) The TensorFlow variable scope\n",
    "    :param n_hidden: (int) The number of hidden neurons\n",
    "    :param init_scale: (int) The initialization scale\n",
    "    :param init_bias: (int) The initialization offset bias\n",
    "    :return: (TensorFlow Tensor) fully connected layer\n",
    "    \"\"\"\n",
    "    with tf.variable_scope(scope):\n",
    "        n_input = input_tensor.get_shape()[1].value\n",
    "        weight = tf.get_variable(\"w\", [n_input, n_hidden], initializer=ortho_init(init_scale))\n",
    "        bias = tf.get_variable(\"b\", [n_hidden], initializer=tf.constant_initializer(init_bias))\n",
    "        return tf.matmul(input_tensor, weight) + bias\n",
    "    \n",
    "def conv_to_fc(input_tensor):\n",
    "    \"\"\"\n",
    "    Reshapes a Tensor from a convolutional network to a Tensor for a fully connected network\n",
    "\n",
    "    :param input_tensor: (TensorFlow Tensor) The convolutional input tensor\n",
    "    :return: (TensorFlow Tensor) The fully connected output tensor\n",
    "    \"\"\"\n",
    "    n_hidden = np.prod([v.value for v in input_tensor.get_shape()[1:]])\n",
    "    input_tensor = tf.reshape(input_tensor, [-1, n_hidden])\n",
    "    return input_tensor\n",
    "\n",
    "def ortho_init(scale=1.0):\n",
    "    \"\"\"\n",
    "    Orthogonal initialization for the policy weights\n",
    "\n",
    "    :param scale: (float) Scaling factor for the weights.\n",
    "    :return: (function) an initialization function for the weights\n",
    "    \"\"\"\n",
    "\n",
    "    # _ortho_init(shape, dtype, partition_info=None)\n",
    "    def _ortho_init(shape, *_, **_kwargs):\n",
    "        \"\"\"Intialize weights as Orthogonal matrix.\n",
    "\n",
    "        Orthogonal matrix initialization [1]_. For n-dimensional shapes where\n",
    "        n > 2, the n-1 trailing axes are flattened. For convolutional layers, this\n",
    "        corresponds to the fan-in, so this makes the initialization usable for\n",
    "        both dense and convolutional layers.\n",
    "\n",
    "        References\n",
    "        ----------\n",
    "        .. [1] Saxe, Andrew M., James L. McClelland, and Surya Ganguli.\n",
    "               \"Exact solutions to the nonlinear dynamics of learning in deep\n",
    "               linear\n",
    "        \"\"\"\n",
    "        # lasagne ortho init for tf\n",
    "        shape = tuple(shape)\n",
    "        if len(shape) == 2:\n",
    "            flat_shape = shape\n",
    "        elif len(shape) == 4:  # assumes NHWC\n",
    "            flat_shape = (np.prod(shape[:-1]), shape[-1])\n",
    "        else:\n",
    "            raise NotImplementedError\n",
    "        gaussian_noise = np.random.normal(0.0, 1.0, flat_shape)\n",
    "        u, _, v = np.linalg.svd(gaussian_noise, full_matrices=False)\n",
    "        weights = u if u.shape == flat_shape else v  # pick the one with the correct shape\n",
    "        weights = weights.reshape(shape)\n",
    "        return (scale * weights[:shape[0], :shape[1]]).astype(np.float32)\n",
    "\n",
    "    return _ortho_init"
   ]
  },
  {
   "cell_type": "code",
   "execution_count": 4,
   "metadata": {},
   "outputs": [
    {
     "name": "stdout",
     "output_type": "stream",
     "text": [
      "(3996, 84, 84, 1)\n",
      "(3996, 84, 84, 1)\n",
      "(3996, 84, 84, 1)\n",
      "(3996, 84, 84, 1)\n",
      "(3996, 84, 84, 4)\n"
     ]
    }
   ],
   "source": [
    "if not ran_once:\n",
    "    ran_once = True\n",
    "    x_train = x_train * (1./255)\n",
    "    x_len = x_train.shape[0]\n",
    "    print(x_train[ :x_len - 4].shape)\n",
    "    print(x_train[1:x_len - 3].shape)\n",
    "    print(x_train[2:x_len - 2].shape)\n",
    "    print(x_train[3:x_len - 1].shape)\n",
    "\n",
    "    four_vec_stack = [x_train[ :x_len-4].squeeze(), \n",
    "                      x_train[1:x_len-3].squeeze(), \n",
    "                      x_train[2:x_len-2].squeeze(),\n",
    "                      x_train[3:x_len-1].squeeze()]\n",
    "    # del x_train\n",
    "\n",
    "    del x_train\n",
    "    four_vec_stack = np.stack(four_vec_stack, axis=-1)\n",
    "\n",
    "print(four_vec_stack.shape)"
   ]
  },
  {
   "cell_type": "code",
   "execution_count": 13,
   "metadata": {},
   "outputs": [],
   "source": [
    "tf.reset_default_graph()\n",
    "activ = tf.nn.tanh\n",
    "obs = tf.placeholder(shape=(None, 84, 84, 4), dtype=tf.float32, name=\"input\")\n",
    "layer_1 = activ(conv(obs, 'c1', n_filters=32, filter_size=8, stride=4, init_scale=np.sqrt(2)))\n",
    "layer_2 = activ(conv(layer_1, 'c2', n_filters=64, filter_size=4, stride=2, init_scale=np.sqrt(2)))\n",
    "layer_3 = activ(conv(layer_2, 'c3', n_filters=64, filter_size=3, stride=1, init_scale=np.sqrt(2)))\n",
    "layer_3 = conv_to_fc(layer_3)\n",
    "bottle_neck = activ(linear(layer_3, 'fc1', n_hidden=512, init_scale=np.sqrt(2)), name=\"feature_extraction_dense\")\n",
    "reverse_layer_3 = layers.Reshape((8, 8, 8))(bottle_neck)\n",
    "\n",
    "x = layers.Conv2DTranspose(64, (3, 3), strides=1, activation='relu',)(reverse_layer_3)\n",
    "x = layers.Conv2DTranspose(64, (4, 4), strides= 2, activation='relu')(x)\n",
    "x = layers.Conv2DTranspose(1, (8, 8), strides= 4, activation='relu')(x)\n",
    "decoded = layers.Cropping2D(cropping=(4, 4))(x)\n",
    "\n",
    "labels = tf.placeholder(shape=(None, 84, 84, 1), dtype=tf.float32, name=\"labels\")"
   ]
  },
  {
   "cell_type": "code",
   "execution_count": 14,
   "metadata": {},
   "outputs": [],
   "source": [
    "loss = tf.losses.mean_squared_error(labels=labels, predictions=decoded)\n",
    "train = tf.train.AdamOptimizer(0.001, name=\"AdamPretrain\").minimize(loss)\n"
   ]
  },
  {
   "cell_type": "code",
   "execution_count": 15,
   "metadata": {},
   "outputs": [],
   "source": [
    "sess = tf.Session()\n",
    "sess.run(tf.global_variables_initializer())"
   ]
  },
  {
   "cell_type": "code",
   "execution_count": 17,
   "metadata": {},
   "outputs": [
    {
     "name": "stdout",
     "output_type": "stream",
     "text": [
      "(3996, 84, 84, 1)\n"
     ]
    },
    {
     "data": {
      "text/plain": [
       "<matplotlib.image.AxesImage at 0x7f75a825e940>"
      ]
     },
     "execution_count": 17,
     "metadata": {},
     "output_type": "execute_result"
    },
    {
     "data": {
      "image/png": "[encoded data removed]",
      "text/plain": [
       "<Figure size 432x288 with 1 Axes>"
      ]
     },
     "metadata": {},
     "output_type": "display_data"
    }
   ],
   "source": [
    "for step in range(10):\n",
    "    _ = sess.run([train], {obs: four_vec_stack, labels:four_vec_stack[:,:,:,2:3]})\n",
    "decoded_ = sess.run(decoded, {obs: four_vec_stack, labels:four_vec_stack[:,:,:,2:3]})\n",
    "print(decoded_.shape)\n",
    "plt.imshow(decoded_[28].squeeze(), cmap='gray')\n"
   ]
  },
  {
   "cell_type": "code",
   "execution_count": 18,
   "metadata": {},
   "outputs": [
    {
     "name": "stdout",
     "output_type": "stream",
     "text": [
      "INFO:tensorflow:Assets added to graph.\n",
      "INFO:tensorflow:No assets to write.\n",
      "INFO:tensorflow:SavedModel written to: nature_cnn_output/saved_model.pb\n"
     ]
    }
   ],
   "source": [
    "from tensorflow.python.saved_model import tag_constants\n",
    "input_placeholders = {\n",
    "    \"obs\": obs,\n",
    "}\n",
    "output_tensors = {\"bottle_neck\": bottle_neck}\n",
    "\n",
    "tf.saved_model.simple_save(\n",
    "    sess, 'nature_cnn_output', input_placeholders, output_tensors\n",
    ")"
   ]
  },
  {
   "cell_type": "code",
   "execution_count": 12,
   "metadata": {},
   "outputs": [
    {
     "name": "stdout",
     "output_type": "stream",
     "text": [
      "INFO:tensorflow:Restoring parameters from nature_cnn_output/variables/variables\n",
      "[]\n"
     ]
    }
   ],
   "source": [
    "from tensorflow.python.saved_model import tag_constants\n",
    "restored_graph = tf.Graph()\n",
    "with restored_graph.as_default():\n",
    "    with tf.Session() as sess2:\n",
    "        tf.saved_model.loader.load(\n",
    "                sess,\n",
    "                [tag_constants.SERVING],\n",
    "                'nature_cnn_output',\n",
    "            )   \n",
    "        print([n.name for n in tf.get_default_graph().as_graph_def().node])        \n"
   ]
  },
  {
   "cell_type": "code",
   "execution_count": null,
   "metadata": {},
   "outputs": [],
   "source": []
  },
  {
   "cell_type": "code",
   "execution_count": null,
   "metadata": {},
   "outputs": [],
   "source": []
  }
 ],
 "metadata": {
  "kernelspec": {
   "display_name": "Python 3",
   "language": "python",
   "name": "python3"
  },
  "language_info": {
   "codemirror_mode": {
    "name": "ipython",
    "version": 3
   },
   "file_extension": ".py",
   "mimetype": "text/x-python",
   "name": "python",
   "nbconvert_exporter": "python",
   "pygments_lexer": "ipython3",
   "version": "3.6.5"
  }
 },
 "nbformat": 4,
 "nbformat_minor": 2
}
