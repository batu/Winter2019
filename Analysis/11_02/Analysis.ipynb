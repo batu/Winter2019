{
 "cells": [
  {
   "cell_type": "code",
   "execution_count": 1,
   "metadata": {},
   "outputs": [],
   "source": [
    "import numpy as np\n",
    "import matplotlib.pyplot as plt"
   ]
  },
  {
   "cell_type": "code",
   "execution_count": 2,
   "metadata": {},
   "outputs": [
    {
     "ename": "FileNotFoundError",
     "evalue": "[Errno 2] No such file or directory: '/home/batu/Desktop/Winter_2019/Retro/States/SMW_level1/100_frames.npy'",
     "output_type": "error",
     "traceback": [
      "\u001b[0;31m---------------------------------------------------------------------------\u001b[0m",
      "\u001b[0;31mFileNotFoundError\u001b[0m                         Traceback (most recent call last)",
      "\u001b[0;32m<ipython-input-2-44f3527b0930>\u001b[0m in \u001b[0;36m<module>\u001b[0;34m()\u001b[0m\n\u001b[0;32m----> 1\u001b[0;31m \u001b[0mhun_frames_states\u001b[0m \u001b[0;34m=\u001b[0m \u001b[0mnp\u001b[0m\u001b[0;34m.\u001b[0m\u001b[0mload\u001b[0m\u001b[0;34m(\u001b[0m\u001b[0;34m\"/home/batu/Desktop/Winter_2019/Retro/States/SMW_level1/100_frames.npy\"\u001b[0m\u001b[0;34m)\u001b[0m\u001b[0;34m\u001b[0m\u001b[0m\n\u001b[0m\u001b[1;32m      2\u001b[0m \u001b[0mthu_frames_states\u001b[0m \u001b[0;34m=\u001b[0m \u001b[0mnp\u001b[0m\u001b[0;34m.\u001b[0m\u001b[0mload\u001b[0m\u001b[0;34m(\u001b[0m\u001b[0;34m\"/home/batu/Desktop/Winter_2019/Retro/States/SMW_level1/1000_frames.npy\"\u001b[0m\u001b[0;34m)\u001b[0m\u001b[0;34m\u001b[0m\u001b[0m\n\u001b[1;32m      3\u001b[0m \u001b[0mprint\u001b[0m\u001b[0;34m(\u001b[0m\u001b[0;34mf\"There are {len(thu_frames_states)} in less checkpoints\"\u001b[0m\u001b[0;34m)\u001b[0m\u001b[0;34m\u001b[0m\u001b[0m\n\u001b[1;32m      4\u001b[0m \u001b[0mprint\u001b[0m\u001b[0;34m(\u001b[0m\u001b[0;34mf\"There are {len(hun_frames_states)} in more checkpoints\"\u001b[0m\u001b[0;34m)\u001b[0m\u001b[0;34m\u001b[0m\u001b[0m\n",
      "\u001b[0;32m~/anaconda3/lib/python3.6/site-packages/numpy/lib/npyio.py\u001b[0m in \u001b[0;36mload\u001b[0;34m(file, mmap_mode, allow_pickle, fix_imports, encoding)\u001b[0m\n\u001b[1;32m    370\u001b[0m     \u001b[0mown_fid\u001b[0m \u001b[0;34m=\u001b[0m \u001b[0;32mFalse\u001b[0m\u001b[0;34m\u001b[0m\u001b[0m\n\u001b[1;32m    371\u001b[0m     \u001b[0;32mif\u001b[0m \u001b[0misinstance\u001b[0m\u001b[0;34m(\u001b[0m\u001b[0mfile\u001b[0m\u001b[0;34m,\u001b[0m \u001b[0mbasestring\u001b[0m\u001b[0;34m)\u001b[0m\u001b[0;34m:\u001b[0m\u001b[0;34m\u001b[0m\u001b[0m\n\u001b[0;32m--> 372\u001b[0;31m         \u001b[0mfid\u001b[0m \u001b[0;34m=\u001b[0m \u001b[0mopen\u001b[0m\u001b[0;34m(\u001b[0m\u001b[0mfile\u001b[0m\u001b[0;34m,\u001b[0m \u001b[0;34m\"rb\"\u001b[0m\u001b[0;34m)\u001b[0m\u001b[0;34m\u001b[0m\u001b[0m\n\u001b[0m\u001b[1;32m    373\u001b[0m         \u001b[0mown_fid\u001b[0m \u001b[0;34m=\u001b[0m \u001b[0;32mTrue\u001b[0m\u001b[0;34m\u001b[0m\u001b[0m\n\u001b[1;32m    374\u001b[0m     \u001b[0;32melif\u001b[0m \u001b[0mis_pathlib_path\u001b[0m\u001b[0;34m(\u001b[0m\u001b[0mfile\u001b[0m\u001b[0;34m)\u001b[0m\u001b[0;34m:\u001b[0m\u001b[0;34m\u001b[0m\u001b[0m\n",
      "\u001b[0;31mFileNotFoundError\u001b[0m: [Errno 2] No such file or directory: '/home/batu/Desktop/Winter_2019/Retro/States/SMW_level1/100_frames.npy'"
     ]
    }
   ],
   "source": [
    "hun_frames_states = np.load(\"/home/batu/Desktop/Winter_2019/Retro/States/SMW_level1/100_frames.npy\")\n",
    "thu_frames_states = np.load(\"/home/batu/Desktop/Winter_2019/Retro/States/SMW_level1/1000_frames.npy\")\n",
    "print(f\"There are {len(thu_frames_states)} in less checkpoints\")\n",
    "print(f\"There are {len(hun_frames_states)} in more checkpoints\")"
   ]
  },
  {
   "cell_type": "code",
   "execution_count": null,
   "metadata": {},
   "outputs": [],
   "source": [
    "with open(\"Data/100_frames\") as f:\n",
    "    checkpoints_35_dataraw = f.readlines()\n",
    "    checkpoints_35_dataraw = [int(x.strip()) for x in checkpoints_35_dataraw] \n",
    "    \n",
    "with open(\"Data/1000_frames\") as f:\n",
    "    checkpoints_4_dataraw = f.readlines()\n",
    "    checkpoints_4_dataraw = [int(x.strip()) for x in checkpoints_4_dataraw] \n",
    "\n",
    "with open(\"Data/NoTreatment\") as f:\n",
    "    no_checkpoints_dataraw = f.readlines()\n",
    "    no_checkpoints_dataraw = [int(x.strip()) for x in no_checkpoints_dataraw] \n",
    "    "
   ]
  },
  {
   "cell_type": "code",
   "execution_count": 3,
   "metadata": {},
   "outputs": [
    {
     "ename": "NameError",
     "evalue": "name 'checkpoints_35_dataraw' is not defined",
     "output_type": "error",
     "traceback": [
      "\u001b[0;31m---------------------------------------------------------------------------\u001b[0m",
      "\u001b[0;31mNameError\u001b[0m                                 Traceback (most recent call last)",
      "\u001b[0;32m<ipython-input-3-6be507906b8b>\u001b[0m in \u001b[0;36m<module>\u001b[0;34m()\u001b[0m\n\u001b[0;32m----> 1\u001b[0;31m \u001b[0mcheckpoints_35_results\u001b[0m \u001b[0;34m=\u001b[0m \u001b[0mnp\u001b[0m\u001b[0;34m.\u001b[0m\u001b[0marray\u001b[0m\u001b[0;34m(\u001b[0m\u001b[0mcheckpoints_35_dataraw\u001b[0m\u001b[0;34m)\u001b[0m\u001b[0;34m\u001b[0m\u001b[0m\n\u001b[0m\u001b[1;32m      2\u001b[0m \u001b[0mcheckpoints_4_results\u001b[0m \u001b[0;34m=\u001b[0m \u001b[0mnp\u001b[0m\u001b[0;34m.\u001b[0m\u001b[0marray\u001b[0m\u001b[0;34m(\u001b[0m\u001b[0mcheckpoints_4_dataraw\u001b[0m\u001b[0;34m)\u001b[0m\u001b[0;34m\u001b[0m\u001b[0m\n\u001b[1;32m      3\u001b[0m \u001b[0mno_checkpoints_results\u001b[0m \u001b[0;34m=\u001b[0m \u001b[0mnp\u001b[0m\u001b[0;34m.\u001b[0m\u001b[0marray\u001b[0m\u001b[0;34m(\u001b[0m\u001b[0mno_checkpoints_dataraw\u001b[0m\u001b[0;34m)\u001b[0m\u001b[0;34m\u001b[0m\u001b[0m\n",
      "\u001b[0;31mNameError\u001b[0m: name 'checkpoints_35_dataraw' is not defined"
     ]
    }
   ],
   "source": [
    "checkpoints_35_results = np.array(checkpoints_35_dataraw)\n",
    "checkpoints_4_results = np.array(checkpoints_4_dataraw)\n",
    "no_checkpoints_results = np.array(no_checkpoints_dataraw)"
   ]
  },
  {
   "cell_type": "code",
   "execution_count": 38,
   "metadata": {},
   "outputs": [
    {
     "name": "stdout",
     "output_type": "stream",
     "text": [
      "The mean for 35_cp is 1007.78 +- 284.08\n",
      "The mean for 4_cp is 933.89  +- 404.92\n",
      "The mean for NO_cp is 897.67  +- 285.04\n"
     ]
    }
   ],
   "source": [
    "print(f\"The mean for 35_cp is {np.mean(checkpoints_35_results):.2f} +- {np.std(checkpoints_35_results):.2f}\")\n",
    "print(f\"The mean for 4_cp is {np.mean(checkpoints_4_results):.2f}  +- {np.std(checkpoints_4_results):.2f}\")\n",
    "print(f\"The mean for NO_cp is {np.mean(no_checkpoints_results):.2f}  +- {np.std(no_checkpoints_results):.2f}\")"
   ]
  },
  {
   "cell_type": "code",
   "execution_count": 39,
   "metadata": {},
   "outputs": [],
   "source": [
    "cp_35_mean = np.mean(checkpoints_35_results)\n",
    "cp_35_std = np.std(checkpoints_35_results)\n",
    "\n",
    "cp_4_mean = np.mean(checkpoints_4_results)\n",
    "cp_4_std = np.std(checkpoints_4_results)\n",
    "\n",
    "no_cp_mean = np.mean(no_checkpoints_results)\n",
    "no_cp_std = np.std(no_checkpoints_results)\n",
    "\n",
    "means = [cp_35_mean, cp_4_mean, no_cp_mean]\n",
    "stds = [cp_35_std, cp_4_std, no_cp_std]\n"
   ]
  },
  {
   "cell_type": "code",
   "execution_count": 40,
   "metadata": {},
   "outputs": [
    {
     "data": {
      "image/png": "[encoded data removed]",
      "text/plain": [
       "<Figure size 432x288 with 1 Axes>"
      ]
     },
     "metadata": {},
     "output_type": "display_data"
    }
   ],
   "source": [
    "x_pos = np.arange(len(means))\n",
    "plt.bar(x_pos, means, yerr=stds, align='center', alpha=0.5)\n",
    "plt.xticks(x_pos, [\"35 Checkpoints\", \"4 Checkpoints\", \"No Checkpoints\"])\n",
    "plt.ylabel('Mean Max Reward')\n",
    "plt.title('Checkpoints in Reward Rich Envs')\n",
    " \n",
    "plt.show()"
   ]
  },
  {
   "cell_type": "code",
   "execution_count": 41,
   "metadata": {},
   "outputs": [
    {
     "data": {
      "image/png": "[encoded data removed]",
      "text/plain": [
       "<Figure size 432x288 with 1 Axes>"
      ]
     },
     "metadata": {},
     "output_type": "display_data"
    }
   ],
   "source": [
    "max_35 = max(checkpoints_35_results)\n",
    "max_4 = max(checkpoints_4_results)\n",
    "max_NO_CP = max(no_checkpoints_results)\n",
    "\n",
    "max_results = [max_35, max_4, max_NO_CP]\n",
    "x_pos = np.arange(len(max_results))\n",
    "plt.bar(x_pos, max_results, align='center', alpha=0.5)\n",
    "plt.xticks(x_pos, [\"35 Checkpoints\", \"4 Checkpoints\", \"No Checkpoints\"])\n",
    "plt.ylabel('Max Reward')\n",
    "plt.title('Max Reward Rich Envs')\n",
    " \n",
    "plt.show()\n"
   ]
  },
  {
   "cell_type": "code",
   "execution_count": null,
   "metadata": {},
   "outputs": [],
   "source": []
  }
 ],
 "metadata": {
  "kernelspec": {
   "display_name": "Python 3",
   "language": "python",
   "name": "python3"
  },
  "language_info": {
   "codemirror_mode": {
    "name": "ipython",
    "version": 3
   },
   "file_extension": ".py",
   "mimetype": "text/x-python",
   "name": "python",
   "nbconvert_exporter": "python",
   "pygments_lexer": "ipython3",
   "version": "3.6.5"
  }
 },
 "nbformat": 4,
 "nbformat_minor": 2
}
